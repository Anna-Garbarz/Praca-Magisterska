{
 "cells": [
  {
   "cell_type": "markdown",
   "id": "be10e5c8",
   "metadata": {},
   "source": [
    "Ten skrypt służy wstępnej analizy i filtracji danych"
   ]
  },
  {
   "cell_type": "markdown",
   "id": "92e2273d",
   "metadata": {},
   "source": [
    "------\n",
    "### POTRZEBNE FUNKCJE\n",
    "------"
   ]
  },
  {
   "cell_type": "code",
   "execution_count": 1,
   "id": "4cf40652",
   "metadata": {
    "vscode": {
     "languageId": "r"
    }
   },
   "outputs": [
    {
     "name": "stderr",
     "output_type": "stream",
     "text": [
      "Ładowanie wymaganego pakietu: SeuratObject\n",
      "\n",
      "Ładowanie wymaganego pakietu: sp\n",
      "\n",
      "Warning message:\n",
      "\"pakiet 'sp' został zbudowany w wersji R 4.3.3\"\n",
      "\n",
      "Dołączanie pakietu: 'SeuratObject'\n",
      "\n",
      "\n",
      "Następujące obiekty zostały zakryte z 'package:base':\n",
      "\n",
      "    intersect, t\n",
      "\n",
      "\n",
      "\n",
      "Dołączanie pakietu: 'dplyr'\n",
      "\n",
      "\n",
      "Następujące obiekty zostały zakryte z 'package:data.table':\n",
      "\n",
      "    between, first, last\n",
      "\n",
      "\n",
      "Następujące obiekty zostały zakryte z 'package:stats':\n",
      "\n",
      "    filter, lag\n",
      "\n",
      "\n",
      "Następujące obiekty zostały zakryte z 'package:base':\n",
      "\n",
      "    intersect, setdiff, setequal, union\n",
      "\n",
      "\n",
      "Warning message:\n",
      "\"pakiet 'patchwork' został zbudowany w wersji R 4.3.3\"\n"
     ]
    }
   ],
   "source": [
    "# załadowanie potrzebnych paczek \n",
    "library(Seurat)\n",
    "library(data.table)\n",
    "library(dplyr)\n",
    "library(ggplot2)\n",
    "library(patchwork) "
   ]
  },
  {
   "cell_type": "code",
   "execution_count": 2,
   "id": "730fef76",
   "metadata": {
    "vscode": {
     "languageId": "r"
    }
   },
   "outputs": [],
   "source": [
    "# funkcja pomocnicza do kalkulacji statystyk \n",
    "print_seurat_stats <- function(seurat_object) {\n",
    "  if (is.null(seurat_object) || length(seurat_object) == 0) {\n",
    "    cat(\"The Seurat object is empty or NULL.\\n\")\n",
    "    return(NULL)\n",
    "  }\n",
    "\n",
    "  remaining_cells <- ncol(seurat_object)\n",
    "  remaining_genes <- nrow(seurat_object)\n",
    "  cat(\"Number of cells:\", remaining_cells, \"\\n\")\n",
    "  cat(\"Number of genes:\", remaining_genes, \"\\n\")\n",
    "}"
   ]
  },
  {
   "cell_type": "code",
   "execution_count": 3,
   "id": "748aa6f9",
   "metadata": {
    "vscode": {
     "languageId": "r"
    }
   },
   "outputs": [],
   "source": [
    "# funkcja do załadowania danych\n",
    "process_seurat_sample <- function(data_dir, assignment_table_path) {\n",
    "  data <- Read10X(data.dir = data_dir)\n",
    "  seurat_object_temp <- CreateSeuratObject(counts = data$`Gene Expression`)\n",
    "  seurat_object_temp[[\"CMO\"]] <- CreateAssayObject(counts = data$`Multiplexing Capture`)\n",
    "  seurat_object <- seurat_object_temp\n",
    "  cells <- fread(assignment_table_path, select = c(\"Barcode\"))\n",
    "\n",
    "  seurat_object_use <- subset(seurat_object, cells = cells$Barcode)\n",
    "\n",
    "  print_seurat_stats(seurat_object_use)\n",
    "  seurat_object_use[[\"percent.mt\"]] <- PercentageFeatureSet(seurat_object_use, pattern = \"^MT-\")\n",
    "  return(seurat_object_use)\n",
    "}"
   ]
  },
  {
   "cell_type": "code",
   "execution_count": 11,
   "id": "ddb05cbb",
   "metadata": {
    "vscode": {
     "languageId": "r"
    }
   },
   "outputs": [],
   "source": [
    "plot_with_threshold <- function(seurat_obj, features, threshold_list = NULL, titles = NULL, x_labels = NULL) {\n",
    "  plots <- list()\n",
    "  options(repr.plot.width = 12, repr.plot.height = 5)\n",
    "  for (i in seq_along(features)) {\n",
    "    feature <- features[i]\n",
    "    p <- VlnPlot(seurat_obj, features = feature, pt.size = 0.1) + NoLegend()\n",
    "\n",
    "    if (!is.null(threshold_list) && length(threshold_list) >= i && !is.na(threshold_list[i])) {\n",
    "      p <- p + geom_hline(yintercept = threshold_list[i], color = \"red\", linetype = \"dashed\")\n",
    "    }\n",
    "\n",
    "    if (!is.null(titles) && length(titles) >= i && !is.na(titles[i])) {\n",
    "      p <- p + ggtitle(titles[i])\n",
    "    }\n",
    "\n",
    "    if (!is.null(x_labels) && length(x_labels) >= i && !is.na(x_labels[i])) {\n",
    "      p <- p + xlab(x_labels[i])\n",
    "    }\n",
    "\n",
    "    plots[[i]] <- p\n",
    "  }\n",
    "  \n",
    "  wrap_plots(plots, ncol = 3)\n",
    "}"
   ]
  },
  {
   "cell_type": "code",
   "execution_count": 5,
   "id": "26f266d4",
   "metadata": {
    "vscode": {
     "languageId": "r"
    }
   },
   "outputs": [],
   "source": [
    "# filtrowanie\n",
    "filter_seurat_object <- function(seurat_obj, threshold_cells, threshold_mt){\n",
    "    DefaultAssay(seurat_obj) <- \"RNA\"\n",
    "    seurat_obj <- subset(seurat_obj, subset = nFeature_RNA > threshold_cells & nCount_RNA > threshold_cells & percent.mt < threshold_mt )\n",
    "    return(seurat_obj)\n",
    "}"
   ]
  },
  {
   "cell_type": "code",
   "execution_count": 6,
   "id": "90ffef7e",
   "metadata": {
    "vscode": {
     "languageId": "r"
    }
   },
   "outputs": [],
   "source": [
    "plot_qc_violin <- function(seurat_object, group.by = \"hash.ID\", fill_colors = NULL) {\n",
    "  if (is.null(fill_colors)) {\n",
    "    fill_colors <- c(\n",
    "      \"Hash18\" = \"#800000\",\n",
    "      \"Hash19\" = \"#F0E68C\",\n",
    "      \"Hash23\" = \"#7F7F7F\",\n",
    "      \"Hash24\" = \"#008080\"\n",
    "    )\n",
    "  }\n",
    "  options(repr.plot.width = 12, repr.plot.height = 5)\n",
    "  p1 <- VlnPlot(seurat_object, features = \"nFeature_RNA\", pt.size = 0.1, group.by = group.by) +\n",
    "    scale_fill_manual(values = fill_colors) +\n",
    "    ggtitle(\"nFeature_RNA\") +\n",
    "    xlab(\"Sample\") +\n",
    "    theme(legend.position = \"none\")\n",
    "  \n",
    "  p2 <- VlnPlot(seurat_object, features = \"nCount_RNA\", pt.size = 0.1, group.by = group.by) +\n",
    "    scale_fill_manual(values = fill_colors) +\n",
    "    ggtitle(\"nCount_RNA\") +\n",
    "    xlab(\"Sample\") +\n",
    "    theme(legend.position = \"none\")\n",
    "  combined_plot <- p1 + p2 + plot_layout(ncol = 2)\n",
    "  return(combined_plot)\n",
    "}\n"
   ]
  },
  {
   "cell_type": "code",
   "execution_count": 12,
   "id": "657b62f1",
   "metadata": {
    "vscode": {
     "languageId": "r"
    }
   },
   "outputs": [],
   "source": [
    "plot_hash_counts <- function(seurat_object, hash_col = \"hash.ID\", exclude = c(\"Doublet\",\"Negative\"), custom_colors = NULL) {\n",
    "  if (is.null(custom_colors)) {\n",
    "    custom_colors <- c(\n",
    "      \"Hash18\" = \"#800000\",\n",
    "      \"Hash19\" = \"#F0E68C\",\n",
    "      \"Hash23\" = \"#7F7F7F\",\n",
    "      \"Hash24\" = \"#008080\"\n",
    "    )\n",
    "  }\n",
    "\n",
    "  if (!(hash_col %in% colnames(seurat_object@meta.data))) {\n",
    "    stop(paste(\"Kolumna\", hash_col, \"nie istnieje w meta.data obiektu Seurat\"))\n",
    "  }\n",
    "  options(repr.plot.width = 12, repr.plot.height = 5)\n",
    "  hash_counts <- as.data.frame(table(seurat_object@meta.data[[hash_col]]))\n",
    "  colnames(hash_counts) <- c(\"Hash\", \"CellCount\")\n",
    "  hash_counts <- subset(hash_counts, Hash != exclude)\n",
    "  p <- ggplot(hash_counts, aes(x = Hash, y = CellCount, fill = Hash)) +\n",
    "    geom_bar(stat = \"identity\") +\n",
    "    labs(\n",
    "      title = \"Liczba komórek dla każdego hasha po demultipleksacji\",\n",
    "      x = \"Hash\",\n",
    "      y = \"Liczba komórek\"\n",
    "    ) +\n",
    "    scale_fill_manual(values = custom_colors) +\n",
    "    theme_minimal() +\n",
    "    theme(legend.position = \"none\")\n",
    "  \n",
    "  return(p)\n",
    "}"
   ]
  },
  {
   "cell_type": "markdown",
   "id": "8d38cb71",
   "metadata": {},
   "source": [
    "------\n",
    "### PRÓBKA 3\n",
    "------"
   ]
  },
  {
   "cell_type": "code",
   "execution_count": 8,
   "id": "16ba8d58",
   "metadata": {
    "vscode": {
     "languageId": "r"
    }
   },
   "outputs": [
    {
     "name": "stderr",
     "output_type": "stream",
     "text": [
      "10X data contains more than one type and is being returned as a list containing matrices of each type.\n",
      "\n"
     ]
    },
    {
     "name": "stdout",
     "output_type": "stream",
     "text": [
      "Number of cells: 30000 \n",
      "Number of genes: 36601 \n"
     ]
    }
   ],
   "source": [
    "seurat_object <- process_seurat_sample(\n",
    "  data_dir = \"../INPUT/sample3/raw_feature_bc_matrix\",\n",
    "  assignment_table_path = \"../INPUT/sample3/assignment_confidence_table.csv\"\n",
    ")"
   ]
  },
  {
   "cell_type": "code",
   "execution_count": 9,
   "id": "e1a81760",
   "metadata": {
    "vscode": {
     "languageId": "r"
    }
   },
   "outputs": [
    {
     "data": {
      "text/html": [
       "<table class=\"dataframe\">\n",
       "<caption>A data.frame: 6 × 6</caption>\n",
       "<thead>\n",
       "\t<tr><th></th><th scope=col>orig.ident</th><th scope=col>nCount_RNA</th><th scope=col>nFeature_RNA</th><th scope=col>nCount_CMO</th><th scope=col>nFeature_CMO</th><th scope=col>percent.mt</th></tr>\n",
       "\t<tr><th></th><th scope=col>&lt;fct&gt;</th><th scope=col>&lt;dbl&gt;</th><th scope=col>&lt;int&gt;</th><th scope=col>&lt;dbl&gt;</th><th scope=col>&lt;int&gt;</th><th scope=col>&lt;dbl&gt;</th></tr>\n",
       "</thead>\n",
       "<tbody>\n",
       "\t<tr><th scope=row>AAACCCAAGACGGAAA-1</th><td>SeuratProject</td><td>739</td><td>80</td><td>12371</td><td>4</td><td>85.385656</td></tr>\n",
       "\t<tr><th scope=row>AAACCCAAGAGTGACC-1</th><td>SeuratProject</td><td> 49</td><td>44</td><td>   76</td><td>3</td><td> 4.081633</td></tr>\n",
       "\t<tr><th scope=row>AAACCCAAGCAGCAGT-1</th><td>SeuratProject</td><td> 48</td><td>46</td><td>  102</td><td>3</td><td> 8.333333</td></tr>\n",
       "\t<tr><th scope=row>AAACCCAAGCGTCGAA-1</th><td>SeuratProject</td><td>236</td><td>92</td><td> 2800</td><td>3</td><td>64.406780</td></tr>\n",
       "\t<tr><th scope=row>AAACCCAAGGACCCAA-1</th><td>SeuratProject</td><td> 82</td><td>77</td><td>  134</td><td>4</td><td> 6.097561</td></tr>\n",
       "\t<tr><th scope=row>AAACCCAAGGCGTTGA-1</th><td>SeuratProject</td><td> 52</td><td>51</td><td>   96</td><td>3</td><td> 3.846154</td></tr>\n",
       "</tbody>\n",
       "</table>\n"
      ],
      "text/latex": [
       "A data.frame: 6 × 6\n",
       "\\begin{tabular}{r|llllll}\n",
       "  & orig.ident & nCount\\_RNA & nFeature\\_RNA & nCount\\_CMO & nFeature\\_CMO & percent.mt\\\\\n",
       "  & <fct> & <dbl> & <int> & <dbl> & <int> & <dbl>\\\\\n",
       "\\hline\n",
       "\tAAACCCAAGACGGAAA-1 & SeuratProject & 739 & 80 & 12371 & 4 & 85.385656\\\\\n",
       "\tAAACCCAAGAGTGACC-1 & SeuratProject &  49 & 44 &    76 & 3 &  4.081633\\\\\n",
       "\tAAACCCAAGCAGCAGT-1 & SeuratProject &  48 & 46 &   102 & 3 &  8.333333\\\\\n",
       "\tAAACCCAAGCGTCGAA-1 & SeuratProject & 236 & 92 &  2800 & 3 & 64.406780\\\\\n",
       "\tAAACCCAAGGACCCAA-1 & SeuratProject &  82 & 77 &   134 & 4 &  6.097561\\\\\n",
       "\tAAACCCAAGGCGTTGA-1 & SeuratProject &  52 & 51 &    96 & 3 &  3.846154\\\\\n",
       "\\end{tabular}\n"
      ],
      "text/markdown": [
       "\n",
       "A data.frame: 6 × 6\n",
       "\n",
       "| <!--/--> | orig.ident &lt;fct&gt; | nCount_RNA &lt;dbl&gt; | nFeature_RNA &lt;int&gt; | nCount_CMO &lt;dbl&gt; | nFeature_CMO &lt;int&gt; | percent.mt &lt;dbl&gt; |\n",
       "|---|---|---|---|---|---|---|\n",
       "| AAACCCAAGACGGAAA-1 | SeuratProject | 739 | 80 | 12371 | 4 | 85.385656 |\n",
       "| AAACCCAAGAGTGACC-1 | SeuratProject |  49 | 44 |    76 | 3 |  4.081633 |\n",
       "| AAACCCAAGCAGCAGT-1 | SeuratProject |  48 | 46 |   102 | 3 |  8.333333 |\n",
       "| AAACCCAAGCGTCGAA-1 | SeuratProject | 236 | 92 |  2800 | 3 | 64.406780 |\n",
       "| AAACCCAAGGACCCAA-1 | SeuratProject |  82 | 77 |   134 | 4 |  6.097561 |\n",
       "| AAACCCAAGGCGTTGA-1 | SeuratProject |  52 | 51 |    96 | 3 |  3.846154 |\n",
       "\n"
      ],
      "text/plain": [
       "                   orig.ident    nCount_RNA nFeature_RNA nCount_CMO\n",
       "AAACCCAAGACGGAAA-1 SeuratProject 739        80           12371     \n",
       "AAACCCAAGAGTGACC-1 SeuratProject  49        44              76     \n",
       "AAACCCAAGCAGCAGT-1 SeuratProject  48        46             102     \n",
       "AAACCCAAGCGTCGAA-1 SeuratProject 236        92            2800     \n",
       "AAACCCAAGGACCCAA-1 SeuratProject  82        77             134     \n",
       "AAACCCAAGGCGTTGA-1 SeuratProject  52        51              96     \n",
       "                   nFeature_CMO percent.mt\n",
       "AAACCCAAGACGGAAA-1 4            85.385656 \n",
       "AAACCCAAGAGTGACC-1 3             4.081633 \n",
       "AAACCCAAGCAGCAGT-1 3             8.333333 \n",
       "AAACCCAAGCGTCGAA-1 3            64.406780 \n",
       "AAACCCAAGGACCCAA-1 4             6.097561 \n",
       "AAACCCAAGGCGTTGA-1 3             3.846154 "
      ]
     },
     "metadata": {},
     "output_type": "display_data"
    }
   ],
   "source": [
    "head(seurat_object@meta.data)"
   ]
  },
  {
   "cell_type": "code",
   "execution_count": 13,
   "id": "f62e3f3f",
   "metadata": {
    "vscode": {
     "languageId": "r"
    }
   },
   "outputs": [
    {
     "name": "stderr",
     "output_type": "stream",
     "text": [
      "Warning message:\n",
      "\"Default search for \"data\" layer in \"RNA\" assay yielded no results; utilizing \"counts\" layer instead.\"\n"
     ]
    },
    {
     "name": "stderr",
     "output_type": "stream",
     "text": [
      "Warning message:\n",
      "\"Default search for \"data\" layer in \"RNA\" assay yielded no results; utilizing \"counts\" layer instead.\"\n",
      "Warning message:\n",
      "\"Default search for \"data\" layer in \"RNA\" assay yielded no results; utilizing \"counts\" layer instead.\"\n"
     ]
    },
    {
     "data": {
      "image/png": "[encoded data removed]",
      "text/plain": [
       "plot without title"
      ]
     },
     "metadata": {
      "image/png": {
       "height": 300,
       "width": 720
      }
     },
     "output_type": "display_data"
    }
   ],
   "source": [
    "thresholds <- c(500, 500, 20)\n",
    "\n",
    "plot_with_threshold(seurat_object, \n",
    "                    features = c(\"nFeature_RNA\", \"nCount_RNA\", \"percent.mt\"), \n",
    "                    threshold_list = thresholds)"
   ]
  },
  {
   "cell_type": "code",
   "execution_count": 14,
   "id": "2dbf7265",
   "metadata": {
    "vscode": {
     "languageId": "r"
    }
   },
   "outputs": [
    {
     "name": "stdout",
     "output_type": "stream",
     "text": [
      "Number of cells: 781 \n",
      "Number of genes: 36601 \n"
     ]
    },
    {
     "name": "stderr",
     "output_type": "stream",
     "text": [
      "Warning message:\n",
      "\"\u001b[1m\u001b[22mThe `slot` argument of `SetAssayData()` is deprecated as of SeuratObject 5.0.0.\n",
      "\u001b[36mℹ\u001b[39m Please use the `layer` argument instead.\n",
      "\u001b[36mℹ\u001b[39m The deprecated feature was likely used in the \u001b[34mSeurat\u001b[39m package.\n",
      "  Please report the issue at \u001b[3m\u001b[34m<https://github.com/satijalab/seurat/issues>\u001b[39m\u001b[23m.\"\n",
      "Warning message:\n",
      "\"\u001b[1m\u001b[22mThe `slot` argument of `GetAssayData()` is deprecated as of SeuratObject 5.0.0.\n",
      "\u001b[36mℹ\u001b[39m Please use the `layer` argument instead.\n",
      "\u001b[36mℹ\u001b[39m The deprecated feature was likely used in the \u001b[34mSeurat\u001b[39m package.\n",
      "  Please report the issue at \u001b[3m\u001b[34m<https://github.com/satijalab/seurat/issues>\u001b[39m\u001b[23m.\"\n",
      "Normalizing across features\n",
      "\n",
      "As of Seurat v5, we recommend using AggregateExpression to perform pseudo-bulk analysis.\n",
      "\u001b[90mThis message is displayed once per session.\u001b[39m\n",
      "Cutoff for Hash18 : 1 reads\n",
      "\n",
      "Cutoff for Hash19 : 614 reads\n",
      "\n",
      "Cutoff for Hash23 : 74 reads\n",
      "\n",
      "Cutoff for Hash24 : 67 reads\n",
      "\n"
     ]
    },
    {
     "data": {
      "text/html": [
       "<table class=\"dataframe\">\n",
       "<caption>A data.frame: 6 × 12</caption>\n",
       "<thead>\n",
       "\t<tr><th></th><th scope=col>orig.ident</th><th scope=col>nCount_RNA</th><th scope=col>nFeature_RNA</th><th scope=col>nCount_CMO</th><th scope=col>nFeature_CMO</th><th scope=col>percent.mt</th><th scope=col>CMO_maxID</th><th scope=col>CMO_secondID</th><th scope=col>CMO_margin</th><th scope=col>CMO_classification</th><th scope=col>CMO_classification.global</th><th scope=col>hash.ID</th></tr>\n",
       "\t<tr><th></th><th scope=col>&lt;fct&gt;</th><th scope=col>&lt;dbl&gt;</th><th scope=col>&lt;int&gt;</th><th scope=col>&lt;dbl&gt;</th><th scope=col>&lt;int&gt;</th><th scope=col>&lt;dbl&gt;</th><th scope=col>&lt;chr&gt;</th><th scope=col>&lt;chr&gt;</th><th scope=col>&lt;dbl&gt;</th><th scope=col>&lt;chr&gt;</th><th scope=col>&lt;chr&gt;</th><th scope=col>&lt;fct&gt;</th></tr>\n",
       "</thead>\n",
       "<tbody>\n",
       "\t<tr><th scope=row>AAACCCAAGTATAGAC-1</th><td>SeuratProject</td><td> 7543</td><td>2686</td><td>2391</td><td>4</td><td>3.1022140</td><td>Hash19</td><td>Hash18</td><td>0.869702</td><td>Hash19</td><td>Singlet</td><td>Hash19</td></tr>\n",
       "\t<tr><th scope=row>AAACGAAAGGAACGCT-1</th><td>SeuratProject</td><td>10527</td><td>3140</td><td>5110</td><td>3</td><td>6.7445616</td><td>Hash19</td><td>Hash23</td><td>1.463663</td><td>Hash19</td><td>Singlet</td><td>Hash19</td></tr>\n",
       "\t<tr><th scope=row>AAACGCTGTTCACCGG-1</th><td>SeuratProject</td><td>17293</td><td>4243</td><td>7192</td><td>3</td><td>1.1449720</td><td>Hash19</td><td>Hash23</td><td>2.131325</td><td>Hash19</td><td>Singlet</td><td>Hash19</td></tr>\n",
       "\t<tr><th scope=row>AAAGGGCCACTAACGT-1</th><td>SeuratProject</td><td> 3426</td><td>1734</td><td>4445</td><td>3</td><td>4.9620549</td><td>Hash19</td><td>Hash23</td><td>1.651337</td><td>Hash19</td><td>Singlet</td><td>Hash19</td></tr>\n",
       "\t<tr><th scope=row>AAAGGGCGTAGCGCCT-1</th><td>SeuratProject</td><td>10878</td><td>3504</td><td>6598</td><td>4</td><td>4.7986762</td><td>Hash19</td><td>Hash24</td><td>1.704653</td><td>Hash19</td><td>Singlet</td><td>Hash19</td></tr>\n",
       "\t<tr><th scope=row>AAAGGTAAGTCGCCAC-1</th><td>SeuratProject</td><td>10272</td><td>3515</td><td>4443</td><td>3</td><td>0.3212617</td><td>Hash19</td><td>Hash24</td><td>1.407699</td><td>Hash19</td><td>Singlet</td><td>Hash19</td></tr>\n",
       "</tbody>\n",
       "</table>\n"
      ],
      "text/latex": [
       "A data.frame: 6 × 12\n",
       "\\begin{tabular}{r|llllllllllll}\n",
       "  & orig.ident & nCount\\_RNA & nFeature\\_RNA & nCount\\_CMO & nFeature\\_CMO & percent.mt & CMO\\_maxID & CMO\\_secondID & CMO\\_margin & CMO\\_classification & CMO\\_classification.global & hash.ID\\\\\n",
       "  & <fct> & <dbl> & <int> & <dbl> & <int> & <dbl> & <chr> & <chr> & <dbl> & <chr> & <chr> & <fct>\\\\\n",
       "\\hline\n",
       "\tAAACCCAAGTATAGAC-1 & SeuratProject &  7543 & 2686 & 2391 & 4 & 3.1022140 & Hash19 & Hash18 & 0.869702 & Hash19 & Singlet & Hash19\\\\\n",
       "\tAAACGAAAGGAACGCT-1 & SeuratProject & 10527 & 3140 & 5110 & 3 & 6.7445616 & Hash19 & Hash23 & 1.463663 & Hash19 & Singlet & Hash19\\\\\n",
       "\tAAACGCTGTTCACCGG-1 & SeuratProject & 17293 & 4243 & 7192 & 3 & 1.1449720 & Hash19 & Hash23 & 2.131325 & Hash19 & Singlet & Hash19\\\\\n",
       "\tAAAGGGCCACTAACGT-1 & SeuratProject &  3426 & 1734 & 4445 & 3 & 4.9620549 & Hash19 & Hash23 & 1.651337 & Hash19 & Singlet & Hash19\\\\\n",
       "\tAAAGGGCGTAGCGCCT-1 & SeuratProject & 10878 & 3504 & 6598 & 4 & 4.7986762 & Hash19 & Hash24 & 1.704653 & Hash19 & Singlet & Hash19\\\\\n",
       "\tAAAGGTAAGTCGCCAC-1 & SeuratProject & 10272 & 3515 & 4443 & 3 & 0.3212617 & Hash19 & Hash24 & 1.407699 & Hash19 & Singlet & Hash19\\\\\n",
       "\\end{tabular}\n"
      ],
      "text/markdown": [
       "\n",
       "A data.frame: 6 × 12\n",
       "\n",
       "| <!--/--> | orig.ident &lt;fct&gt; | nCount_RNA &lt;dbl&gt; | nFeature_RNA &lt;int&gt; | nCount_CMO &lt;dbl&gt; | nFeature_CMO &lt;int&gt; | percent.mt &lt;dbl&gt; | CMO_maxID &lt;chr&gt; | CMO_secondID &lt;chr&gt; | CMO_margin &lt;dbl&gt; | CMO_classification &lt;chr&gt; | CMO_classification.global &lt;chr&gt; | hash.ID &lt;fct&gt; |\n",
       "|---|---|---|---|---|---|---|---|---|---|---|---|---|\n",
       "| AAACCCAAGTATAGAC-1 | SeuratProject |  7543 | 2686 | 2391 | 4 | 3.1022140 | Hash19 | Hash18 | 0.869702 | Hash19 | Singlet | Hash19 |\n",
       "| AAACGAAAGGAACGCT-1 | SeuratProject | 10527 | 3140 | 5110 | 3 | 6.7445616 | Hash19 | Hash23 | 1.463663 | Hash19 | Singlet | Hash19 |\n",
       "| AAACGCTGTTCACCGG-1 | SeuratProject | 17293 | 4243 | 7192 | 3 | 1.1449720 | Hash19 | Hash23 | 2.131325 | Hash19 | Singlet | Hash19 |\n",
       "| AAAGGGCCACTAACGT-1 | SeuratProject |  3426 | 1734 | 4445 | 3 | 4.9620549 | Hash19 | Hash23 | 1.651337 | Hash19 | Singlet | Hash19 |\n",
       "| AAAGGGCGTAGCGCCT-1 | SeuratProject | 10878 | 3504 | 6598 | 4 | 4.7986762 | Hash19 | Hash24 | 1.704653 | Hash19 | Singlet | Hash19 |\n",
       "| AAAGGTAAGTCGCCAC-1 | SeuratProject | 10272 | 3515 | 4443 | 3 | 0.3212617 | Hash19 | Hash24 | 1.407699 | Hash19 | Singlet | Hash19 |\n",
       "\n"
      ],
      "text/plain": [
       "                   orig.ident    nCount_RNA nFeature_RNA nCount_CMO\n",
       "AAACCCAAGTATAGAC-1 SeuratProject  7543      2686         2391      \n",
       "AAACGAAAGGAACGCT-1 SeuratProject 10527      3140         5110      \n",
       "AAACGCTGTTCACCGG-1 SeuratProject 17293      4243         7192      \n",
       "AAAGGGCCACTAACGT-1 SeuratProject  3426      1734         4445      \n",
       "AAAGGGCGTAGCGCCT-1 SeuratProject 10878      3504         6598      \n",
       "AAAGGTAAGTCGCCAC-1 SeuratProject 10272      3515         4443      \n",
       "                   nFeature_CMO percent.mt CMO_maxID CMO_secondID CMO_margin\n",
       "AAACCCAAGTATAGAC-1 4            3.1022140  Hash19    Hash18       0.869702  \n",
       "AAACGAAAGGAACGCT-1 3            6.7445616  Hash19    Hash23       1.463663  \n",
       "AAACGCTGTTCACCGG-1 3            1.1449720  Hash19    Hash23       2.131325  \n",
       "AAAGGGCCACTAACGT-1 3            4.9620549  Hash19    Hash23       1.651337  \n",
       "AAAGGGCGTAGCGCCT-1 4            4.7986762  Hash19    Hash24       1.704653  \n",
       "AAAGGTAAGTCGCCAC-1 3            0.3212617  Hash19    Hash24       1.407699  \n",
       "                   CMO_classification CMO_classification.global hash.ID\n",
       "AAACCCAAGTATAGAC-1 Hash19             Singlet                   Hash19 \n",
       "AAACGAAAGGAACGCT-1 Hash19             Singlet                   Hash19 \n",
       "AAACGCTGTTCACCGG-1 Hash19             Singlet                   Hash19 \n",
       "AAAGGGCCACTAACGT-1 Hash19             Singlet                   Hash19 \n",
       "AAAGGGCGTAGCGCCT-1 Hash19             Singlet                   Hash19 \n",
       "AAAGGTAAGTCGCCAC-1 Hash19             Singlet                   Hash19 "
      ]
     },
     "metadata": {},
     "output_type": "display_data"
    }
   ],
   "source": [
    "seurat_object <- filter_seurat_object(seurat_object, 500, 20)\n",
    "print_seurat_stats(seurat_object)\n",
    "seurat_object_norm <- NormalizeData(seurat_object, assay = \"CMO\", normalization.method = \"CLR\")\n",
    "seurat_object_demux <- HTODemux(seurat_object_norm, assay = \"CMO\", positive.quantile = 0.99)\n",
    "head(seurat_object_demux@meta.data)"
   ]
  },
  {
   "cell_type": "code",
   "execution_count": 15,
   "id": "8c724875",
   "metadata": {
    "vscode": {
     "languageId": "r"
    }
   },
   "outputs": [
    {
     "data": {
      "text/plain": [
       "\n",
       " Doublet Negative  Singlet \n",
       "      83       11      687 "
      ]
     },
     "metadata": {},
     "output_type": "display_data"
    }
   ],
   "source": [
    "#check how many singlets you have\n",
    "table(seurat_object_demux$CMO_classification.global)"
   ]
  },
  {
   "cell_type": "code",
   "execution_count": 16,
   "id": "547d51da",
   "metadata": {
    "vscode": {
     "languageId": "r"
    }
   },
   "outputs": [
    {
     "name": "stdout",
     "output_type": "stream",
     "text": [
      "Number of cells: 687 \n",
      "Number of genes: 36601 \n"
     ]
    }
   ],
   "source": [
    "seurat_object <- subset(seurat_object_demux, subset = CMO_classification.global %in% c(\"Singlet\"))\n",
    "print_seurat_stats(seurat_object)"
   ]
  },
  {
   "cell_type": "code",
   "execution_count": 17,
   "id": "190c82a6",
   "metadata": {
    "vscode": {
     "languageId": "r"
    }
   },
   "outputs": [
    {
     "name": "stderr",
     "output_type": "stream",
     "text": [
      "Warning message:\n",
      "\"Default search for \"data\" layer in \"RNA\" assay yielded no results; utilizing \"counts\" layer instead.\"\n",
      "Warning message:\n",
      "\"Default search for \"data\" layer in \"RNA\" assay yielded no results; utilizing \"counts\" layer instead.\"\n"
     ]
    },
    {
     "data": {
      "image/png": "[encoded data removed]",
      "text/plain": [
       "plot without title"
      ]
     },
     "metadata": {
      "image/png": {
       "height": 300,
       "width": 720
      }
     },
     "output_type": "display_data"
    }
   ],
   "source": [
    "plot_qc_violin(seurat_object)"
   ]
  },
  {
   "cell_type": "code",
   "execution_count": 18,
   "id": "41fcfef1",
   "metadata": {
    "vscode": {
     "languageId": "r"
    }
   },
   "outputs": [
    {
     "name": "stderr",
     "output_type": "stream",
     "text": [
      "Warning message:\n",
      "\"Default search for \"data\" layer in \"RNA\" assay yielded no results; utilizing \"counts\" layer instead.\"\n"
     ]
    },
    {
     "data": {
      "image/png": "[encoded data removed]",
      "text/plain": [
       "plot without title"
      ]
     },
     "metadata": {
      "image/png": {
       "height": 300,
       "width": 720
      }
     },
     "output_type": "display_data"
    }
   ],
   "source": [
    "VlnPlot(seurat_object, features = c(\"nFeature_RNA\", \"nCount_RNA\"), \n",
    "        ncol = 2, group.by = \"orig.ident\", assay = \"RNA\")\n"
   ]
  },
  {
   "cell_type": "code",
   "execution_count": 19,
   "id": "ad6ed55d",
   "metadata": {
    "vscode": {
     "languageId": "r"
    }
   },
   "outputs": [
    {
     "data": {
      "image/png": "[encoded data removed]",
      "text/plain": [
       "plot without title"
      ]
     },
     "metadata": {
      "image/png": {
       "height": 300,
       "width": 720
      }
     },
     "output_type": "display_data"
    }
   ],
   "source": [
    "plot_hash_counts(seurat_object)\n"
   ]
  },
  {
   "cell_type": "code",
   "execution_count": 20,
   "id": "44a500b1",
   "metadata": {
    "vscode": {
     "languageId": "r"
    }
   },
   "outputs": [
    {
     "name": "stderr",
     "output_type": "stream",
     "text": [
      "Normalizing layer: counts\n",
      "\n",
      "Finding variable features for layer counts\n",
      "\n",
      "When using repel, set xnudge and ynudge to 0 for optimal results\n",
      "\n",
      "Warning message in scale_x_log10():\n",
      "\"\u001b[1m\u001b[22m\u001b[32mlog-10\u001b[39m transformation introduced infinite values.\"\n"
     ]
    },
    {
     "data": {
      "image/png": "[encoded data removed]",
      "text/plain": [
       "plot without title"
      ]
     },
     "metadata": {
      "image/png": {
       "height": 300,
       "width": 420
      }
     },
     "output_type": "display_data"
    }
   ],
   "source": [
    "seurat_object <- NormalizeData(seurat_object)\n",
    "seurat_object <- FindVariableFeatures(seurat_object, selection.method = \"vst\", nfeatures = 2000)\n",
    "options(repr.plot.width = 7, repr.plot.height = 5)\n",
    "# Identify the 10 most highly variable genes\n",
    "top10 <- head(VariableFeatures(seurat_object), 10)\n",
    "\n",
    "# plot variable features with and without labels\n",
    "plot1 <- VariableFeaturePlot(seurat_object, cols = c(\"#4D4D4D\", \"#800000\"))\n",
    "plot2 <- LabelPoints(plot = plot1, points = top10, repel = TRUE)\n",
    "plot2"
   ]
  },
  {
   "cell_type": "code",
   "execution_count": 21,
   "id": "9c01ccfb",
   "metadata": {
    "vscode": {
     "languageId": "r"
    }
   },
   "outputs": [
    {
     "name": "stderr",
     "output_type": "stream",
     "text": [
      "Centering and scaling data matrix\n",
      "\n"
     ]
    }
   ],
   "source": [
    "# scale data \n",
    "all.genes <- rownames(seurat_object)\n",
    "seurat_object <- ScaleData(seurat_object, features = all.genes)"
   ]
  },
  {
   "cell_type": "code",
   "execution_count": null,
   "id": "b29b8df2",
   "metadata": {
    "vscode": {
     "languageId": "r"
    }
   },
   "outputs": [],
   "source": [
    "# Zapisanie obiektu Seurat do pliku RDS\n",
    "saveRDS(seurat_object, file = \"../SAMPLE_OUT/sample3.rds\")"
   ]
  }
 ],
 "metadata": {
  "kernelspec": {
   "display_name": "R",
   "language": "R",
   "name": "ir"
  },
  "language_info": {
   "codemirror_mode": "r",
   "file_extension": ".r",
   "mimetype": "text/x-r-source",
   "name": "R",
   "pygments_lexer": "r",
   "version": "4.3.2"
  }
 },
 "nbformat": 4,
 "nbformat_minor": 5
}
