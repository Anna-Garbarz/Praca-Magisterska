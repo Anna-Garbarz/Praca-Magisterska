{
 "cells": [
  {
   "cell_type": "markdown",
   "id": "be10e5c8",
   "metadata": {},
   "source": [
    "Ten skrypt służy wstępnej analizy i filtracji danych"
   ]
  },
  {
   "cell_type": "markdown",
   "id": "92e2273d",
   "metadata": {},
   "source": [
    "------\n",
    "### POTRZEBNE FUNKCJE\n",
    "------"
   ]
  },
  {
   "cell_type": "code",
   "execution_count": 2,
   "id": "4cf40652",
   "metadata": {
    "vscode": {
     "languageId": "r"
    }
   },
   "outputs": [],
   "source": [
    "# załadowanie potrzebnych paczek \n",
    "library(Seurat)\n",
    "library(data.table)\n",
    "library(dplyr)\n",
    "library(ggplot2)\n",
    "library(patchwork) "
   ]
  },
  {
   "cell_type": "code",
   "execution_count": 3,
   "id": "730fef76",
   "metadata": {
    "vscode": {
     "languageId": "r"
    }
   },
   "outputs": [],
   "source": [
    "# funkcja pomocnicza do kalkulacji statystyk \n",
    "print_seurat_stats <- function(seurat_object) {\n",
    "  if (is.null(seurat_object) || length(seurat_object) == 0) {\n",
    "    cat(\"The Seurat object is empty or NULL.\\n\")\n",
    "    return(NULL)\n",
    "  }\n",
    "\n",
    "  remaining_cells <- ncol(seurat_object)\n",
    "  remaining_genes <- nrow(seurat_object)\n",
    "  cat(\"Number of cells:\", remaining_cells, \"\\n\")\n",
    "  cat(\"Number of genes:\", remaining_genes, \"\\n\")\n",
    "}"
   ]
  },
  {
   "cell_type": "code",
   "execution_count": 4,
   "id": "748aa6f9",
   "metadata": {
    "vscode": {
     "languageId": "r"
    }
   },
   "outputs": [],
   "source": [
    "# funkcja do załadowania danych\n",
    "process_seurat_sample <- function(data_dir, assignment_table_path) {\n",
    "  data <- Read10X(data.dir = data_dir)\n",
    "  seurat_object_temp <- CreateSeuratObject(counts = data$`Gene Expression`)\n",
    "  seurat_object_temp[[\"CMO\"]] <- CreateAssayObject(counts = data$`Multiplexing Capture`)\n",
    "  seurat_object <- seurat_object_temp\n",
    "  cells <- fread(assignment_table_path, select = c(\"Barcode\"))\n",
    "\n",
    "  seurat_object_use <- subset(seurat_object, cells = cells$Barcode)\n",
    "\n",
    "  print_seurat_stats(seurat_object_use)\n",
    "  seurat_object_use[[\"percent.mt\"]] <- PercentageFeatureSet(seurat_object_use, pattern = \"^MT-\")\n",
    "  return(seurat_object_use)\n",
    "}"
   ]
  },
  {
   "cell_type": "code",
   "execution_count": null,
   "id": "ddb05cbb",
   "metadata": {
    "vscode": {
     "languageId": "r"
    }
   },
   "outputs": [],
   "source": [
    "plot_with_threshold <- function(seurat_obj, features, threshold_list = NULL, titles = NULL, x_labels = NULL) {\n",
    "  plots <- list()\n",
    "  options(repr.plot.width = 12, repr.plot.height = 5)\n",
    "  for (i in seq_along(features)) {\n",
    "    feature <- features[i]\n",
    "    p <- VlnPlot(seurat_obj, features = feature, pt.size = 0.1) + NoLegend()\n",
    "\n",
    "    if (!is.null(threshold_list) && length(threshold_list) >= i && !is.na(threshold_list[i])) {\n",
    "      p <- p + geom_hline(yintercept = threshold_list[i], color = \"red\", linetype = \"dashed\")\n",
    "    }\n",
    "\n",
    "    if (!is.null(titles) && length(titles) >= i && !is.na(titles[i])) {\n",
    "      p <- p + ggtitle(titles[i])\n",
    "    }\n",
    "\n",
    "    if (!is.null(x_labels) && length(x_labels) >= i && !is.na(x_labels[i])) {\n",
    "      p <- p + xlab(x_labels[i])\n",
    "    }\n",
    "\n",
    "    plots[[i]] <- p\n",
    "  }\n",
    "  \n",
    "  wrap_plots(plots, ncol = 3)\n",
    "}"
   ]
  },
  {
   "cell_type": "code",
   "execution_count": 6,
   "id": "26f266d4",
   "metadata": {
    "vscode": {
     "languageId": "r"
    }
   },
   "outputs": [],
   "source": [
    "# filtrowanie\n",
    "filter_seurat_object <- function(seurat_obj, threshold_cells, threshold_mt){\n",
    "    DefaultAssay(seurat_obj) <- \"RNA\"\n",
    "    seurat_obj <- subset(seurat_obj, subset = nFeature_RNA > threshold_cells & nCount_RNA > threshold_cells & percent.mt < threshold_mt )\n",
    "    return(seurat_obj)\n",
    "}"
   ]
  },
  {
   "cell_type": "code",
   "execution_count": null,
   "id": "90ffef7e",
   "metadata": {
    "vscode": {
     "languageId": "r"
    }
   },
   "outputs": [],
   "source": [
    "plot_qc_violin <- function(seurat_object, group.by = \"hash.ID\", fill_colors = NULL) {\n",
    "  if (is.null(fill_colors)) {\n",
    "    fill_colors <- c(\n",
    "      \"Hash1\" = \"#800000\",\n",
    "      \"Hash2\" = \"#F0E68C\",\n",
    "      \"Hash3\" = \"#7F7F7F\",\n",
    "      \"Hash4\" = \"#008080\"\n",
    "    )\n",
    "  }\n",
    "  options(repr.plot.width = 12, repr.plot.height = 5)\n",
    "  p1 <- VlnPlot(seurat_object, features = \"nFeature_RNA\", pt.size = 0.1, group.by = group.by) +\n",
    "    scale_fill_manual(values = fill_colors) +\n",
    "    ggtitle(\"nFeature_RNA\") +\n",
    "    xlab(\"Sample\") +\n",
    "    theme(legend.position = \"none\")\n",
    "  \n",
    "  p2 <- VlnPlot(seurat_object, features = \"nCount_RNA\", pt.size = 0.1, group.by = group.by) +\n",
    "    scale_fill_manual(values = fill_colors) +\n",
    "    ggtitle(\"nCount_RNA\") +\n",
    "    xlab(\"Sample\") +\n",
    "    theme(legend.position = \"none\")\n",
    "  combined_plot <- p1 + p2 + plot_layout(ncol = 2)\n",
    "  return(combined_plot)\n",
    "}\n"
   ]
  },
  {
   "cell_type": "code",
   "execution_count": null,
   "id": "657b62f1",
   "metadata": {
    "vscode": {
     "languageId": "r"
    }
   },
   "outputs": [],
   "source": [
    "plot_hash_counts <- function(seurat_object, hash_col = \"hash.ID\", exclude = c(\"Doublet\", \"Negative\"), custom_colors = NULL) {\n",
    "  if (is.null(custom_colors)) {\n",
    "    custom_colors <- c(\n",
    "      \"Hash1\" = \"#800000\",\n",
    "      \"Hash2\" = \"#F0E68C\",\n",
    "      \"Hash3\" = \"#7F7F7F\",\n",
    "      \"Hash4\" = \"#008080\"\n",
    "    )\n",
    "  }\n",
    "\n",
    "  if (!(hash_col %in% colnames(seurat_object@meta.data))) {\n",
    "    stop(paste(\"Kolumna\", hash_col, \"nie istnieje w meta.data obiektu Seurat\"))\n",
    "  }\n",
    "  options(repr.plot.width = 12, repr.plot.height = 5)\n",
    "  hash_counts <- as.data.frame(table(seurat_object@meta.data[[hash_col]]))\n",
    "  colnames(hash_counts) <- c(\"Hash\", \"CellCount\")\n",
    "  hash_counts <- subset(hash_counts, Hash != exclude)\n",
    "  p <- ggplot(hash_counts, aes(x = Hash, y = CellCount, fill = Hash)) +\n",
    "    geom_bar(stat = \"identity\") +\n",
    "    labs(\n",
    "      title = \"Liczba komórek dla każdego hasha po demultipleksacji\",\n",
    "      x = \"Hash\",\n",
    "      y = \"Liczba komórek\"\n",
    "    ) +\n",
    "    scale_fill_manual(values = custom_colors) +\n",
    "    theme_minimal() +\n",
    "    theme(legend.position = \"none\")\n",
    "  \n",
    "  return(p)\n",
    "}"
   ]
  },
  {
   "cell_type": "markdown",
   "id": "8d38cb71",
   "metadata": {},
   "source": [
    "------\n",
    "### PRÓBKA 2\n",
    "------"
   ]
  },
  {
   "cell_type": "code",
   "execution_count": 13,
   "id": "2abd272a",
   "metadata": {
    "vscode": {
     "languageId": "r"
    }
   },
   "outputs": [],
   "source": [
    "options(repr.plot.width = 12, repr.plot.height = 5)"
   ]
  },
  {
   "cell_type": "code",
   "execution_count": 10,
   "id": "16ba8d58",
   "metadata": {
    "vscode": {
     "languageId": "r"
    }
   },
   "outputs": [
    {
     "name": "stderr",
     "output_type": "stream",
     "text": [
      "10X data contains more than one type and is being returned as a list containing matrices of each type.\n",
      "\n"
     ]
    },
    {
     "name": "stdout",
     "output_type": "stream",
     "text": [
      "Number of cells: 30000 \n",
      "Number of genes: 36601 \n"
     ]
    }
   ],
   "source": [
    "seurat_object <- process_seurat_sample(\n",
    "  data_dir = \"../INPUT/sample2/raw_feature_bc_matrix\",\n",
    "  assignment_table_path = \"../INPUT/sample2/assignment_confidence_table.csv\"\n",
    ")"
   ]
  },
  {
   "cell_type": "code",
   "execution_count": 11,
   "id": "e1a81760",
   "metadata": {
    "vscode": {
     "languageId": "r"
    }
   },
   "outputs": [
    {
     "data": {
      "text/html": [
       "<table class=\"dataframe\">\n",
       "<caption>A data.frame: 6 × 6</caption>\n",
       "<thead>\n",
       "\t<tr><th></th><th scope=col>orig.ident</th><th scope=col>nCount_RNA</th><th scope=col>nFeature_RNA</th><th scope=col>nCount_CMO</th><th scope=col>nFeature_CMO</th><th scope=col>percent.mt</th></tr>\n",
       "\t<tr><th></th><th scope=col>&lt;fct&gt;</th><th scope=col>&lt;dbl&gt;</th><th scope=col>&lt;int&gt;</th><th scope=col>&lt;dbl&gt;</th><th scope=col>&lt;int&gt;</th><th scope=col>&lt;dbl&gt;</th></tr>\n",
       "</thead>\n",
       "<tbody>\n",
       "\t<tr><th scope=row>AAACCCAAGCCATTCA-1</th><td>SeuratProject</td><td> 99</td><td> 89</td><td>562</td><td>4</td><td>3.030303</td></tr>\n",
       "\t<tr><th scope=row>AAACCCAAGCCTGCCA-1</th><td>SeuratProject</td><td>125</td><td>116</td><td>511</td><td>4</td><td>2.400000</td></tr>\n",
       "\t<tr><th scope=row>AAACCCAAGCTACGTT-1</th><td>SeuratProject</td><td>104</td><td> 98</td><td>203</td><td>4</td><td>6.730769</td></tr>\n",
       "\t<tr><th scope=row>AAACCCAAGGAGGGTG-1</th><td>SeuratProject</td><td>106</td><td> 98</td><td>606</td><td>4</td><td>7.547170</td></tr>\n",
       "\t<tr><th scope=row>AAACCCAAGGTCGTAG-1</th><td>SeuratProject</td><td>101</td><td> 94</td><td>256</td><td>4</td><td>2.970297</td></tr>\n",
       "\t<tr><th scope=row>AAACCCACAACCGACC-1</th><td>SeuratProject</td><td>101</td><td> 96</td><td>255</td><td>4</td><td>7.920792</td></tr>\n",
       "</tbody>\n",
       "</table>\n"
      ],
      "text/latex": [
       "A data.frame: 6 × 6\n",
       "\\begin{tabular}{r|llllll}\n",
       "  & orig.ident & nCount\\_RNA & nFeature\\_RNA & nCount\\_CMO & nFeature\\_CMO & percent.mt\\\\\n",
       "  & <fct> & <dbl> & <int> & <dbl> & <int> & <dbl>\\\\\n",
       "\\hline\n",
       "\tAAACCCAAGCCATTCA-1 & SeuratProject &  99 &  89 & 562 & 4 & 3.030303\\\\\n",
       "\tAAACCCAAGCCTGCCA-1 & SeuratProject & 125 & 116 & 511 & 4 & 2.400000\\\\\n",
       "\tAAACCCAAGCTACGTT-1 & SeuratProject & 104 &  98 & 203 & 4 & 6.730769\\\\\n",
       "\tAAACCCAAGGAGGGTG-1 & SeuratProject & 106 &  98 & 606 & 4 & 7.547170\\\\\n",
       "\tAAACCCAAGGTCGTAG-1 & SeuratProject & 101 &  94 & 256 & 4 & 2.970297\\\\\n",
       "\tAAACCCACAACCGACC-1 & SeuratProject & 101 &  96 & 255 & 4 & 7.920792\\\\\n",
       "\\end{tabular}\n"
      ],
      "text/markdown": [
       "\n",
       "A data.frame: 6 × 6\n",
       "\n",
       "| <!--/--> | orig.ident &lt;fct&gt; | nCount_RNA &lt;dbl&gt; | nFeature_RNA &lt;int&gt; | nCount_CMO &lt;dbl&gt; | nFeature_CMO &lt;int&gt; | percent.mt &lt;dbl&gt; |\n",
       "|---|---|---|---|---|---|---|\n",
       "| AAACCCAAGCCATTCA-1 | SeuratProject |  99 |  89 | 562 | 4 | 3.030303 |\n",
       "| AAACCCAAGCCTGCCA-1 | SeuratProject | 125 | 116 | 511 | 4 | 2.400000 |\n",
       "| AAACCCAAGCTACGTT-1 | SeuratProject | 104 |  98 | 203 | 4 | 6.730769 |\n",
       "| AAACCCAAGGAGGGTG-1 | SeuratProject | 106 |  98 | 606 | 4 | 7.547170 |\n",
       "| AAACCCAAGGTCGTAG-1 | SeuratProject | 101 |  94 | 256 | 4 | 2.970297 |\n",
       "| AAACCCACAACCGACC-1 | SeuratProject | 101 |  96 | 255 | 4 | 7.920792 |\n",
       "\n"
      ],
      "text/plain": [
       "                   orig.ident    nCount_RNA nFeature_RNA nCount_CMO\n",
       "AAACCCAAGCCATTCA-1 SeuratProject  99         89          562       \n",
       "AAACCCAAGCCTGCCA-1 SeuratProject 125        116          511       \n",
       "AAACCCAAGCTACGTT-1 SeuratProject 104         98          203       \n",
       "AAACCCAAGGAGGGTG-1 SeuratProject 106         98          606       \n",
       "AAACCCAAGGTCGTAG-1 SeuratProject 101         94          256       \n",
       "AAACCCACAACCGACC-1 SeuratProject 101         96          255       \n",
       "                   nFeature_CMO percent.mt\n",
       "AAACCCAAGCCATTCA-1 4            3.030303  \n",
       "AAACCCAAGCCTGCCA-1 4            2.400000  \n",
       "AAACCCAAGCTACGTT-1 4            6.730769  \n",
       "AAACCCAAGGAGGGTG-1 4            7.547170  \n",
       "AAACCCAAGGTCGTAG-1 4            2.970297  \n",
       "AAACCCACAACCGACC-1 4            7.920792  "
      ]
     },
     "metadata": {},
     "output_type": "display_data"
    }
   ],
   "source": [
    "head(seurat_object@meta.data)"
   ]
  },
  {
   "cell_type": "code",
   "execution_count": 14,
   "id": "f62e3f3f",
   "metadata": {
    "vscode": {
     "languageId": "r"
    }
   },
   "outputs": [
    {
     "name": "stderr",
     "output_type": "stream",
     "text": [
      "Warning message:\n",
      "\"Default search for \"data\" layer in \"RNA\" assay yielded no results; utilizing \"counts\" layer instead.\"\n",
      "Warning message:\n",
      "\"Default search for \"data\" layer in \"RNA\" assay yielded no results; utilizing \"counts\" layer instead.\"\n",
      "Warning message:\n",
      "\"Default search for \"data\" layer in \"RNA\" assay yielded no results; utilizing \"counts\" layer instead.\"\n"
     ]
    },
    {
     "data": {
      "image/png": "[encoded data removed]",
      "text/plain": [
       "plot without title"
      ]
     },
     "metadata": {
      "image/png": {
       "height": 300,
       "width": 720
      }
     },
     "output_type": "display_data"
    }
   ],
   "source": [
    "thresholds <- c(500, 500, 20)\n",
    "\n",
    "plot_with_threshold(seurat_object, \n",
    "                    features = c(\"nFeature_RNA\", \"nCount_RNA\", \"percent.mt\"), \n",
    "                    threshold_list = thresholds)"
   ]
  },
  {
   "cell_type": "code",
   "execution_count": 15,
   "id": "2dbf7265",
   "metadata": {
    "vscode": {
     "languageId": "r"
    }
   },
   "outputs": [
    {
     "name": "stdout",
     "output_type": "stream",
     "text": [
      "Number of cells: 1029 \n",
      "Number of genes: 36601 \n"
     ]
    },
    {
     "name": "stderr",
     "output_type": "stream",
     "text": [
      "Warning message:\n",
      "\"\u001b[1m\u001b[22mThe `slot` argument of `SetAssayData()` is deprecated as of SeuratObject 5.0.0.\n",
      "\u001b[36mℹ\u001b[39m Please use the `layer` argument instead.\n",
      "\u001b[36mℹ\u001b[39m The deprecated feature was likely used in the \u001b[34mSeurat\u001b[39m package.\n",
      "  Please report the issue at \u001b[3m\u001b[34m<https://github.com/satijalab/seurat/issues>\u001b[39m\u001b[23m.\"\n",
      "Warning message:\n",
      "\"\u001b[1m\u001b[22mThe `slot` argument of `GetAssayData()` is deprecated as of SeuratObject 5.0.0.\n",
      "\u001b[36mℹ\u001b[39m Please use the `layer` argument instead.\n",
      "\u001b[36mℹ\u001b[39m The deprecated feature was likely used in the \u001b[34mSeurat\u001b[39m package.\n",
      "  Please report the issue at \u001b[3m\u001b[34m<https://github.com/satijalab/seurat/issues>\u001b[39m\u001b[23m.\"\n",
      "Normalizing across features\n",
      "\n",
      "As of Seurat v5, we recommend using AggregateExpression to perform pseudo-bulk analysis.\n",
      "\u001b[90mThis message is displayed once per session.\u001b[39m\n",
      "Cutoff for Hash4 : 489 reads\n",
      "\n",
      "Cutoff for Hash1 : 1638 reads\n",
      "\n",
      "Cutoff for Hash3 : 186 reads\n",
      "\n",
      "Cutoff for Hash2 : 55 reads\n",
      "\n"
     ]
    },
    {
     "data": {
      "text/html": [
       "<table class=\"dataframe\">\n",
       "<caption>A data.frame: 6 × 12</caption>\n",
       "<thead>\n",
       "\t<tr><th></th><th scope=col>orig.ident</th><th scope=col>nCount_RNA</th><th scope=col>nFeature_RNA</th><th scope=col>nCount_CMO</th><th scope=col>nFeature_CMO</th><th scope=col>percent.mt</th><th scope=col>CMO_maxID</th><th scope=col>CMO_secondID</th><th scope=col>CMO_margin</th><th scope=col>CMO_classification</th><th scope=col>CMO_classification.global</th><th scope=col>hash.ID</th></tr>\n",
       "\t<tr><th></th><th scope=col>&lt;fct&gt;</th><th scope=col>&lt;dbl&gt;</th><th scope=col>&lt;int&gt;</th><th scope=col>&lt;dbl&gt;</th><th scope=col>&lt;int&gt;</th><th scope=col>&lt;dbl&gt;</th><th scope=col>&lt;chr&gt;</th><th scope=col>&lt;chr&gt;</th><th scope=col>&lt;dbl&gt;</th><th scope=col>&lt;chr&gt;</th><th scope=col>&lt;chr&gt;</th><th scope=col>&lt;fct&gt;</th></tr>\n",
       "</thead>\n",
       "<tbody>\n",
       "\t<tr><th scope=row>AAACCCACAGTAACGG-1</th><td>SeuratProject</td><td>21472</td><td>4933</td><td>10444</td><td>4</td><td>3.534836</td><td>Hash1</td><td>Hash2</td><td>0.9836309</td><td>Hash1_Hash2</td><td>Doublet</td><td>Doublet</td></tr>\n",
       "\t<tr><th scope=row>AAACCCATCCAGGACC-1</th><td>SeuratProject</td><td>13047</td><td>4170</td><td>33016</td><td>4</td><td>4.054572</td><td>Hash4</td><td>Hash2</td><td>3.7611646</td><td>Hash4      </td><td>Singlet</td><td>Hash4  </td></tr>\n",
       "\t<tr><th scope=row>AAACCCATCGAACTCA-1</th><td>SeuratProject</td><td>12143</td><td>3905</td><td> 9634</td><td>4</td><td>2.585852</td><td>Hash1</td><td>Hash2</td><td>1.3694057</td><td>Hash1      </td><td>Singlet</td><td>Hash1  </td></tr>\n",
       "\t<tr><th scope=row>AAACGCTCACTGTTCC-1</th><td>SeuratProject</td><td>14537</td><td>4021</td><td> 5294</td><td>4</td><td>2.765357</td><td>Hash1</td><td>Hash2</td><td>1.3060016</td><td>Hash1      </td><td>Singlet</td><td>Hash1  </td></tr>\n",
       "\t<tr><th scope=row>AAAGAACTCGAGATGG-1</th><td>SeuratProject</td><td> 6034</td><td>2035</td><td> 6859</td><td>4</td><td>2.817368</td><td>Hash1</td><td>Hash3</td><td>1.1200564</td><td>Hash1      </td><td>Singlet</td><td>Hash1  </td></tr>\n",
       "\t<tr><th scope=row>AAAGGGCTCACTACTT-1</th><td>SeuratProject</td><td>10355</td><td>3408</td><td>17207</td><td>4</td><td>6.576533</td><td>Hash3</td><td>Hash2</td><td>3.9122997</td><td>Hash3      </td><td>Singlet</td><td>Hash3  </td></tr>\n",
       "</tbody>\n",
       "</table>\n"
      ],
      "text/latex": [
       "A data.frame: 6 × 12\n",
       "\\begin{tabular}{r|llllllllllll}\n",
       "  & orig.ident & nCount\\_RNA & nFeature\\_RNA & nCount\\_CMO & nFeature\\_CMO & percent.mt & CMO\\_maxID & CMO\\_secondID & CMO\\_margin & CMO\\_classification & CMO\\_classification.global & hash.ID\\\\\n",
       "  & <fct> & <dbl> & <int> & <dbl> & <int> & <dbl> & <chr> & <chr> & <dbl> & <chr> & <chr> & <fct>\\\\\n",
       "\\hline\n",
       "\tAAACCCACAGTAACGG-1 & SeuratProject & 21472 & 4933 & 10444 & 4 & 3.534836 & Hash1 & Hash2 & 0.9836309 & Hash1\\_Hash2 & Doublet & Doublet\\\\\n",
       "\tAAACCCATCCAGGACC-1 & SeuratProject & 13047 & 4170 & 33016 & 4 & 4.054572 & Hash4 & Hash2 & 3.7611646 & Hash4       & Singlet & Hash4  \\\\\n",
       "\tAAACCCATCGAACTCA-1 & SeuratProject & 12143 & 3905 &  9634 & 4 & 2.585852 & Hash1 & Hash2 & 1.3694057 & Hash1       & Singlet & Hash1  \\\\\n",
       "\tAAACGCTCACTGTTCC-1 & SeuratProject & 14537 & 4021 &  5294 & 4 & 2.765357 & Hash1 & Hash2 & 1.3060016 & Hash1       & Singlet & Hash1  \\\\\n",
       "\tAAAGAACTCGAGATGG-1 & SeuratProject &  6034 & 2035 &  6859 & 4 & 2.817368 & Hash1 & Hash3 & 1.1200564 & Hash1       & Singlet & Hash1  \\\\\n",
       "\tAAAGGGCTCACTACTT-1 & SeuratProject & 10355 & 3408 & 17207 & 4 & 6.576533 & Hash3 & Hash2 & 3.9122997 & Hash3       & Singlet & Hash3  \\\\\n",
       "\\end{tabular}\n"
      ],
      "text/markdown": [
       "\n",
       "A data.frame: 6 × 12\n",
       "\n",
       "| <!--/--> | orig.ident &lt;fct&gt; | nCount_RNA &lt;dbl&gt; | nFeature_RNA &lt;int&gt; | nCount_CMO &lt;dbl&gt; | nFeature_CMO &lt;int&gt; | percent.mt &lt;dbl&gt; | CMO_maxID &lt;chr&gt; | CMO_secondID &lt;chr&gt; | CMO_margin &lt;dbl&gt; | CMO_classification &lt;chr&gt; | CMO_classification.global &lt;chr&gt; | hash.ID &lt;fct&gt; |\n",
       "|---|---|---|---|---|---|---|---|---|---|---|---|---|\n",
       "| AAACCCACAGTAACGG-1 | SeuratProject | 21472 | 4933 | 10444 | 4 | 3.534836 | Hash1 | Hash2 | 0.9836309 | Hash1_Hash2 | Doublet | Doublet |\n",
       "| AAACCCATCCAGGACC-1 | SeuratProject | 13047 | 4170 | 33016 | 4 | 4.054572 | Hash4 | Hash2 | 3.7611646 | Hash4       | Singlet | Hash4   |\n",
       "| AAACCCATCGAACTCA-1 | SeuratProject | 12143 | 3905 |  9634 | 4 | 2.585852 | Hash1 | Hash2 | 1.3694057 | Hash1       | Singlet | Hash1   |\n",
       "| AAACGCTCACTGTTCC-1 | SeuratProject | 14537 | 4021 |  5294 | 4 | 2.765357 | Hash1 | Hash2 | 1.3060016 | Hash1       | Singlet | Hash1   |\n",
       "| AAAGAACTCGAGATGG-1 | SeuratProject |  6034 | 2035 |  6859 | 4 | 2.817368 | Hash1 | Hash3 | 1.1200564 | Hash1       | Singlet | Hash1   |\n",
       "| AAAGGGCTCACTACTT-1 | SeuratProject | 10355 | 3408 | 17207 | 4 | 6.576533 | Hash3 | Hash2 | 3.9122997 | Hash3       | Singlet | Hash3   |\n",
       "\n"
      ],
      "text/plain": [
       "                   orig.ident    nCount_RNA nFeature_RNA nCount_CMO\n",
       "AAACCCACAGTAACGG-1 SeuratProject 21472      4933         10444     \n",
       "AAACCCATCCAGGACC-1 SeuratProject 13047      4170         33016     \n",
       "AAACCCATCGAACTCA-1 SeuratProject 12143      3905          9634     \n",
       "AAACGCTCACTGTTCC-1 SeuratProject 14537      4021          5294     \n",
       "AAAGAACTCGAGATGG-1 SeuratProject  6034      2035          6859     \n",
       "AAAGGGCTCACTACTT-1 SeuratProject 10355      3408         17207     \n",
       "                   nFeature_CMO percent.mt CMO_maxID CMO_secondID CMO_margin\n",
       "AAACCCACAGTAACGG-1 4            3.534836   Hash1     Hash2        0.9836309 \n",
       "AAACCCATCCAGGACC-1 4            4.054572   Hash4     Hash2        3.7611646 \n",
       "AAACCCATCGAACTCA-1 4            2.585852   Hash1     Hash2        1.3694057 \n",
       "AAACGCTCACTGTTCC-1 4            2.765357   Hash1     Hash2        1.3060016 \n",
       "AAAGAACTCGAGATGG-1 4            2.817368   Hash1     Hash3        1.1200564 \n",
       "AAAGGGCTCACTACTT-1 4            6.576533   Hash3     Hash2        3.9122997 \n",
       "                   CMO_classification CMO_classification.global hash.ID\n",
       "AAACCCACAGTAACGG-1 Hash1_Hash2        Doublet                   Doublet\n",
       "AAACCCATCCAGGACC-1 Hash4              Singlet                   Hash4  \n",
       "AAACCCATCGAACTCA-1 Hash1              Singlet                   Hash1  \n",
       "AAACGCTCACTGTTCC-1 Hash1              Singlet                   Hash1  \n",
       "AAAGAACTCGAGATGG-1 Hash1              Singlet                   Hash1  \n",
       "AAAGGGCTCACTACTT-1 Hash3              Singlet                   Hash3  "
      ]
     },
     "metadata": {},
     "output_type": "display_data"
    }
   ],
   "source": [
    "seurat_object <- filter_seurat_object(seurat_object, 500, 20)\n",
    "print_seurat_stats(seurat_object)\n",
    "seurat_object_norm <- NormalizeData(seurat_object, assay = \"CMO\", normalization.method = \"CLR\")\n",
    "seurat_object_demux <- HTODemux(seurat_object_norm, assay = \"CMO\", positive.quantile = 0.99)\n",
    "head(seurat_object_demux@meta.data)"
   ]
  },
  {
   "cell_type": "code",
   "execution_count": 16,
   "id": "8c724875",
   "metadata": {
    "vscode": {
     "languageId": "r"
    }
   },
   "outputs": [
    {
     "data": {
      "text/plain": [
       "\n",
       " Doublet Negative  Singlet \n",
       "     247       57      725 "
      ]
     },
     "metadata": {},
     "output_type": "display_data"
    }
   ],
   "source": [
    "#check how many singlets you have\n",
    "table(seurat_object_demux$CMO_classification.global)"
   ]
  },
  {
   "cell_type": "code",
   "execution_count": 17,
   "id": "547d51da",
   "metadata": {
    "vscode": {
     "languageId": "r"
    }
   },
   "outputs": [
    {
     "name": "stdout",
     "output_type": "stream",
     "text": [
      "Number of cells: 725 \n",
      "Number of genes: 36601 \n"
     ]
    }
   ],
   "source": [
    "seurat_object <- subset(seurat_object_demux, subset = CMO_classification.global %in% c(\"Singlet\"))\n",
    "print_seurat_stats(seurat_object)"
   ]
  },
  {
   "cell_type": "code",
   "execution_count": 18,
   "id": "190c82a6",
   "metadata": {
    "vscode": {
     "languageId": "r"
    }
   },
   "outputs": [
    {
     "name": "stderr",
     "output_type": "stream",
     "text": [
      "Warning message:\n",
      "\"Default search for \"data\" layer in \"RNA\" assay yielded no results; utilizing \"counts\" layer instead.\"\n",
      "Warning message:\n",
      "\"Default search for \"data\" layer in \"RNA\" assay yielded no results; utilizing \"counts\" layer instead.\"\n"
     ]
    },
    {
     "data": {
      "image/png": "[encoded data removed]",
      "text/plain": [
       "plot without title"
      ]
     },
     "metadata": {
      "image/png": {
       "height": 300,
       "width": 720
      }
     },
     "output_type": "display_data"
    }
   ],
   "source": [
    "plot_qc_violin(seurat_object)"
   ]
  },
  {
   "cell_type": "code",
   "execution_count": 19,
   "id": "41fcfef1",
   "metadata": {
    "vscode": {
     "languageId": "r"
    }
   },
   "outputs": [
    {
     "name": "stderr",
     "output_type": "stream",
     "text": [
      "Warning message:\n",
      "\"Default search for \"data\" layer in \"RNA\" assay yielded no results; utilizing \"counts\" layer instead.\"\n"
     ]
    },
    {
     "data": {
      "image/png": "[encoded data removed]",
      "text/plain": [
       "plot without title"
      ]
     },
     "metadata": {
      "image/png": {
       "height": 300,
       "width": 720
      }
     },
     "output_type": "display_data"
    }
   ],
   "source": [
    "VlnPlot(seurat_object, features = c(\"nFeature_RNA\", \"nCount_RNA\"), \n",
    "        ncol = 2, group.by = \"orig.ident\", assay = \"RNA\")\n"
   ]
  },
  {
   "cell_type": "code",
   "execution_count": 20,
   "id": "ad6ed55d",
   "metadata": {
    "vscode": {
     "languageId": "r"
    }
   },
   "outputs": [
    {
     "data": {
      "image/png": "[encoded data removed]",
      "text/plain": [
       "plot without title"
      ]
     },
     "metadata": {
      "image/png": {
       "height": 300,
       "width": 720
      }
     },
     "output_type": "display_data"
    }
   ],
   "source": [
    "plot_hash_counts(seurat_object)\n"
   ]
  },
  {
   "cell_type": "code",
   "execution_count": 21,
   "id": "44a500b1",
   "metadata": {
    "vscode": {
     "languageId": "r"
    }
   },
   "outputs": [
    {
     "name": "stderr",
     "output_type": "stream",
     "text": [
      "Normalizing layer: counts\n",
      "\n",
      "Finding variable features for layer counts\n",
      "\n",
      "When using repel, set xnudge and ynudge to 0 for optimal results\n",
      "\n",
      "Warning message in scale_x_log10():\n",
      "\"\u001b[1m\u001b[22m\u001b[32mlog-10\u001b[39m transformation introduced infinite values.\"\n"
     ]
    },
    {
     "data": {
      "image/png": "[encoded data removed]",
      "text/plain": [
       "plot without title"
      ]
     },
     "metadata": {
      "image/png": {
       "height": 300,
       "width": 420
      }
     },
     "output_type": "display_data"
    }
   ],
   "source": [
    "seurat_object <- NormalizeData(seurat_object)\n",
    "seurat_object <- FindVariableFeatures(seurat_object, selection.method = \"vst\", nfeatures = 2000)\n",
    "options(repr.plot.width = 7, repr.plot.height = 5)\n",
    "# Identify the 10 most highly variable genes\n",
    "top10 <- head(VariableFeatures(seurat_object), 10)\n",
    "\n",
    "# plot variable features with and without labels\n",
    "plot1 <- VariableFeaturePlot(seurat_object, cols = c(\"#4D4D4D\", \"#800000\"))\n",
    "plot2 <- LabelPoints(plot = plot1, points = top10, repel = TRUE)\n",
    "plot2"
   ]
  },
  {
   "cell_type": "code",
   "execution_count": 22,
   "id": "9c01ccfb",
   "metadata": {
    "vscode": {
     "languageId": "r"
    }
   },
   "outputs": [
    {
     "name": "stderr",
     "output_type": "stream",
     "text": [
      "Centering and scaling data matrix\n",
      "\n"
     ]
    }
   ],
   "source": [
    "# scale data \n",
    "all.genes <- rownames(seurat_object)\n",
    "seurat_object <- ScaleData(seurat_object, features = all.genes)"
   ]
  },
  {
   "cell_type": "code",
   "execution_count": null,
   "id": "b29b8df2",
   "metadata": {
    "vscode": {
     "languageId": "r"
    }
   },
   "outputs": [],
   "source": [
    "# Zapisanie obiektu Seurat do pliku RDS\n",
    "saveRDS(seurat_object, file = \"../SAMPLE_OUT/sample2.rds\")"
   ]
  }
 ],
 "metadata": {
  "kernelspec": {
   "display_name": "R",
   "language": "R",
   "name": "ir"
  },
  "language_info": {
   "codemirror_mode": "r",
   "file_extension": ".r",
   "mimetype": "text/x-r-source",
   "name": "R",
   "pygments_lexer": "r",
   "version": "4.3.2"
  }
 },
 "nbformat": 4,
 "nbformat_minor": 5
}
